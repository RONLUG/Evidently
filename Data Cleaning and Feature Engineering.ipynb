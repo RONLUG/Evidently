{
 "cells": [
  {
   "cell_type": "code",
   "execution_count": 1,
   "id": "6915e658",
   "metadata": {},
   "outputs": [],
   "source": [
    "from sklearn import datasets\n",
    "import pandas as pd\n",
    "import numpy as np"
   ]
  },
  {
   "cell_type": "code",
   "execution_count": 20,
   "id": "f20ff79b",
   "metadata": {},
   "outputs": [],
   "source": [
    "# Load the diabetes dataset from sklearn\n",
    "df = pd.read_csv(\"DelayedFlights.csv\", index_col=0)"
   ]
  },
  {
   "cell_type": "markdown",
   "id": "9b1a26cb",
   "metadata": {},
   "source": [
    "## Drop information that known after the flight start"
   ]
  },
  {
   "cell_type": "code",
   "execution_count": 3,
   "id": "692fa481",
   "metadata": {},
   "outputs": [],
   "source": [
    "non_trainable_columns = [\n",
    "    \"DepTime\", \"ArrTime\", \"ActualElapsedTime\",\\\n",
    "    \"DepDelay\", \"TaxiIn\", \"TaxiOut\", \"Cancelled\",\\\n",
    "    \"CancellationCode\", \"Diverted\", \"CarrierDelay\", \"WeatherDelay\",\\\n",
    "    \"NASDelay\", \"SecurityDelay\", \"LateAircraftDelay\"\\\n",
    "]"
   ]
  },
  {
   "cell_type": "code",
   "execution_count": 4,
   "id": "f0a3cc7e",
   "metadata": {},
   "outputs": [],
   "source": [
    "df = df.drop(non_trainable_columns, axis=1)"
   ]
  },
  {
   "cell_type": "markdown",
   "id": "2cd079c7",
   "metadata": {},
   "source": [
    "## Dealing with Null values"
   ]
  },
  {
   "cell_type": "code",
   "execution_count": 5,
   "id": "532e45ca",
   "metadata": {},
   "outputs": [
    {
     "data": {
      "text/plain": [
       "Year                 0\n",
       "Month                0\n",
       "DayofMonth           0\n",
       "DayOfWeek            0\n",
       "CRSDepTime           0\n",
       "CRSArrTime           0\n",
       "UniqueCarrier        0\n",
       "FlightNum            0\n",
       "TailNum              5\n",
       "CRSElapsedTime     198\n",
       "AirTime           8387\n",
       "ArrDelay          8387\n",
       "Origin               0\n",
       "Dest                 0\n",
       "Distance             0\n",
       "dtype: int64"
      ]
     },
     "execution_count": 5,
     "metadata": {},
     "output_type": "execute_result"
    }
   ],
   "source": [
    "df.isna().sum()"
   ]
  },
  {
   "cell_type": "code",
   "execution_count": 6,
   "id": "096d97a7",
   "metadata": {},
   "outputs": [],
   "source": [
    "df = df.dropna()"
   ]
  },
  {
   "cell_type": "code",
   "execution_count": 7,
   "id": "fb2eb3c7",
   "metadata": {},
   "outputs": [
    {
     "data": {
      "text/html": [
       "<div>\n",
       "<style scoped>\n",
       "    .dataframe tbody tr th:only-of-type {\n",
       "        vertical-align: middle;\n",
       "    }\n",
       "\n",
       "    .dataframe tbody tr th {\n",
       "        vertical-align: top;\n",
       "    }\n",
       "\n",
       "    .dataframe thead th {\n",
       "        text-align: right;\n",
       "    }\n",
       "</style>\n",
       "<table border=\"1\" class=\"dataframe\">\n",
       "  <thead>\n",
       "    <tr style=\"text-align: right;\">\n",
       "      <th></th>\n",
       "      <th>Year</th>\n",
       "      <th>Month</th>\n",
       "      <th>DayofMonth</th>\n",
       "      <th>DayOfWeek</th>\n",
       "      <th>CRSDepTime</th>\n",
       "      <th>CRSArrTime</th>\n",
       "      <th>UniqueCarrier</th>\n",
       "      <th>FlightNum</th>\n",
       "      <th>TailNum</th>\n",
       "      <th>CRSElapsedTime</th>\n",
       "      <th>AirTime</th>\n",
       "      <th>ArrDelay</th>\n",
       "      <th>Origin</th>\n",
       "      <th>Dest</th>\n",
       "      <th>Distance</th>\n",
       "    </tr>\n",
       "  </thead>\n",
       "  <tbody>\n",
       "    <tr>\n",
       "      <th>0</th>\n",
       "      <td>2008</td>\n",
       "      <td>1</td>\n",
       "      <td>3</td>\n",
       "      <td>4</td>\n",
       "      <td>1955</td>\n",
       "      <td>2225</td>\n",
       "      <td>WN</td>\n",
       "      <td>335</td>\n",
       "      <td>N712SW</td>\n",
       "      <td>150.0</td>\n",
       "      <td>116.0</td>\n",
       "      <td>-14.0</td>\n",
       "      <td>IAD</td>\n",
       "      <td>TPA</td>\n",
       "      <td>810</td>\n",
       "    </tr>\n",
       "    <tr>\n",
       "      <th>1</th>\n",
       "      <td>2008</td>\n",
       "      <td>1</td>\n",
       "      <td>3</td>\n",
       "      <td>4</td>\n",
       "      <td>735</td>\n",
       "      <td>1000</td>\n",
       "      <td>WN</td>\n",
       "      <td>3231</td>\n",
       "      <td>N772SW</td>\n",
       "      <td>145.0</td>\n",
       "      <td>113.0</td>\n",
       "      <td>2.0</td>\n",
       "      <td>IAD</td>\n",
       "      <td>TPA</td>\n",
       "      <td>810</td>\n",
       "    </tr>\n",
       "    <tr>\n",
       "      <th>2</th>\n",
       "      <td>2008</td>\n",
       "      <td>1</td>\n",
       "      <td>3</td>\n",
       "      <td>4</td>\n",
       "      <td>620</td>\n",
       "      <td>750</td>\n",
       "      <td>WN</td>\n",
       "      <td>448</td>\n",
       "      <td>N428WN</td>\n",
       "      <td>90.0</td>\n",
       "      <td>76.0</td>\n",
       "      <td>14.0</td>\n",
       "      <td>IND</td>\n",
       "      <td>BWI</td>\n",
       "      <td>515</td>\n",
       "    </tr>\n",
       "    <tr>\n",
       "      <th>3</th>\n",
       "      <td>2008</td>\n",
       "      <td>1</td>\n",
       "      <td>3</td>\n",
       "      <td>4</td>\n",
       "      <td>1755</td>\n",
       "      <td>1925</td>\n",
       "      <td>WN</td>\n",
       "      <td>3920</td>\n",
       "      <td>N464WN</td>\n",
       "      <td>90.0</td>\n",
       "      <td>77.0</td>\n",
       "      <td>34.0</td>\n",
       "      <td>IND</td>\n",
       "      <td>BWI</td>\n",
       "      <td>515</td>\n",
       "    </tr>\n",
       "    <tr>\n",
       "      <th>4</th>\n",
       "      <td>2008</td>\n",
       "      <td>1</td>\n",
       "      <td>3</td>\n",
       "      <td>4</td>\n",
       "      <td>1915</td>\n",
       "      <td>2110</td>\n",
       "      <td>WN</td>\n",
       "      <td>378</td>\n",
       "      <td>N726SW</td>\n",
       "      <td>115.0</td>\n",
       "      <td>87.0</td>\n",
       "      <td>11.0</td>\n",
       "      <td>IND</td>\n",
       "      <td>JAX</td>\n",
       "      <td>688</td>\n",
       "    </tr>\n",
       "  </tbody>\n",
       "</table>\n",
       "</div>"
      ],
      "text/plain": [
       "   Year  Month  DayofMonth  DayOfWeek  CRSDepTime  CRSArrTime UniqueCarrier  \\\n",
       "0  2008      1           3          4        1955        2225            WN   \n",
       "1  2008      1           3          4         735        1000            WN   \n",
       "2  2008      1           3          4         620         750            WN   \n",
       "3  2008      1           3          4        1755        1925            WN   \n",
       "4  2008      1           3          4        1915        2110            WN   \n",
       "\n",
       "   FlightNum TailNum  CRSElapsedTime  AirTime  ArrDelay Origin Dest  Distance  \n",
       "0        335  N712SW           150.0    116.0     -14.0    IAD  TPA       810  \n",
       "1       3231  N772SW           145.0    113.0       2.0    IAD  TPA       810  \n",
       "2        448  N428WN            90.0     76.0      14.0    IND  BWI       515  \n",
       "3       3920  N464WN            90.0     77.0      34.0    IND  BWI       515  \n",
       "4        378  N726SW           115.0     87.0      11.0    IND  JAX       688  "
      ]
     },
     "execution_count": 7,
     "metadata": {},
     "output_type": "execute_result"
    }
   ],
   "source": [
    "df.head()"
   ]
  },
  {
   "cell_type": "markdown",
   "id": "cd387a37",
   "metadata": {},
   "source": [
    "## Convert float columns to int"
   ]
  },
  {
   "cell_type": "code",
   "execution_count": 8,
   "id": "2fba937e",
   "metadata": {},
   "outputs": [
    {
     "name": "stdout",
     "output_type": "stream",
     "text": [
      "<class 'pandas.core.frame.DataFrame'>\n",
      "Index: 1928368 entries, 0 to 1936757\n",
      "Data columns (total 15 columns):\n",
      " #   Column          Dtype  \n",
      "---  ------          -----  \n",
      " 0   Year            int64  \n",
      " 1   Month           int64  \n",
      " 2   DayofMonth      int64  \n",
      " 3   DayOfWeek       int64  \n",
      " 4   CRSDepTime      int64  \n",
      " 5   CRSArrTime      int64  \n",
      " 6   UniqueCarrier   object \n",
      " 7   FlightNum       int64  \n",
      " 8   TailNum         object \n",
      " 9   CRSElapsedTime  float64\n",
      " 10  AirTime         float64\n",
      " 11  ArrDelay        float64\n",
      " 12  Origin          object \n",
      " 13  Dest            object \n",
      " 14  Distance        int64  \n",
      "dtypes: float64(3), int64(8), object(4)\n",
      "memory usage: 235.4+ MB\n"
     ]
    }
   ],
   "source": [
    "df.info()"
   ]
  },
  {
   "cell_type": "code",
   "execution_count": 9,
   "id": "fe62695f",
   "metadata": {},
   "outputs": [],
   "source": [
    "df[['CRSElapsedTime', 'AirTime', 'ArrDelay']] = df[['CRSElapsedTime', 'AirTime', 'ArrDelay']].astype(int)"
   ]
  },
  {
   "cell_type": "markdown",
   "id": "9aeb7d68",
   "metadata": {},
   "source": [
    "## Convert time from `hhmm` to `total minutes` format"
   ]
  },
  {
   "cell_type": "code",
   "execution_count": 10,
   "id": "078f9200",
   "metadata": {},
   "outputs": [],
   "source": [
    "time_features = [\"CRSDepTime\", \"CRSArrTime\"]"
   ]
  },
  {
   "cell_type": "code",
   "execution_count": 11,
   "id": "d46f707d",
   "metadata": {},
   "outputs": [],
   "source": [
    "def hhmm_to_total_minutes(hhmm: int) -> int:\n",
    "    return ((hhmm // 100) * 60) + (hhmm % 100)"
   ]
  },
  {
   "cell_type": "code",
   "execution_count": 12,
   "id": "4d873087",
   "metadata": {},
   "outputs": [],
   "source": [
    "df[time_features] = df[time_features].apply(hhmm_to_total_minutes)"
   ]
  },
  {
   "cell_type": "markdown",
   "id": "e88acfad",
   "metadata": {},
   "source": [
    "## Encode categorical features"
   ]
  },
  {
   "cell_type": "code",
   "execution_count": 13,
   "id": "e99c8399",
   "metadata": {},
   "outputs": [
    {
     "data": {
      "text/html": [
       "<div>\n",
       "<style scoped>\n",
       "    .dataframe tbody tr th:only-of-type {\n",
       "        vertical-align: middle;\n",
       "    }\n",
       "\n",
       "    .dataframe tbody tr th {\n",
       "        vertical-align: top;\n",
       "    }\n",
       "\n",
       "    .dataframe thead th {\n",
       "        text-align: right;\n",
       "    }\n",
       "</style>\n",
       "<table border=\"1\" class=\"dataframe\">\n",
       "  <thead>\n",
       "    <tr style=\"text-align: right;\">\n",
       "      <th></th>\n",
       "      <th>Year</th>\n",
       "      <th>Month</th>\n",
       "      <th>DayofMonth</th>\n",
       "      <th>DayOfWeek</th>\n",
       "      <th>CRSDepTime</th>\n",
       "      <th>CRSArrTime</th>\n",
       "      <th>UniqueCarrier</th>\n",
       "      <th>FlightNum</th>\n",
       "      <th>TailNum</th>\n",
       "      <th>CRSElapsedTime</th>\n",
       "      <th>AirTime</th>\n",
       "      <th>ArrDelay</th>\n",
       "      <th>Origin</th>\n",
       "      <th>Dest</th>\n",
       "      <th>Distance</th>\n",
       "    </tr>\n",
       "  </thead>\n",
       "  <tbody>\n",
       "    <tr>\n",
       "      <th>0</th>\n",
       "      <td>2008</td>\n",
       "      <td>1</td>\n",
       "      <td>3</td>\n",
       "      <td>4</td>\n",
       "      <td>1195</td>\n",
       "      <td>1345</td>\n",
       "      <td>WN</td>\n",
       "      <td>335</td>\n",
       "      <td>N712SW</td>\n",
       "      <td>150</td>\n",
       "      <td>116</td>\n",
       "      <td>-14</td>\n",
       "      <td>IAD</td>\n",
       "      <td>TPA</td>\n",
       "      <td>810</td>\n",
       "    </tr>\n",
       "    <tr>\n",
       "      <th>1</th>\n",
       "      <td>2008</td>\n",
       "      <td>1</td>\n",
       "      <td>3</td>\n",
       "      <td>4</td>\n",
       "      <td>455</td>\n",
       "      <td>600</td>\n",
       "      <td>WN</td>\n",
       "      <td>3231</td>\n",
       "      <td>N772SW</td>\n",
       "      <td>145</td>\n",
       "      <td>113</td>\n",
       "      <td>2</td>\n",
       "      <td>IAD</td>\n",
       "      <td>TPA</td>\n",
       "      <td>810</td>\n",
       "    </tr>\n",
       "    <tr>\n",
       "      <th>2</th>\n",
       "      <td>2008</td>\n",
       "      <td>1</td>\n",
       "      <td>3</td>\n",
       "      <td>4</td>\n",
       "      <td>380</td>\n",
       "      <td>470</td>\n",
       "      <td>WN</td>\n",
       "      <td>448</td>\n",
       "      <td>N428WN</td>\n",
       "      <td>90</td>\n",
       "      <td>76</td>\n",
       "      <td>14</td>\n",
       "      <td>IND</td>\n",
       "      <td>BWI</td>\n",
       "      <td>515</td>\n",
       "    </tr>\n",
       "    <tr>\n",
       "      <th>3</th>\n",
       "      <td>2008</td>\n",
       "      <td>1</td>\n",
       "      <td>3</td>\n",
       "      <td>4</td>\n",
       "      <td>1075</td>\n",
       "      <td>1165</td>\n",
       "      <td>WN</td>\n",
       "      <td>3920</td>\n",
       "      <td>N464WN</td>\n",
       "      <td>90</td>\n",
       "      <td>77</td>\n",
       "      <td>34</td>\n",
       "      <td>IND</td>\n",
       "      <td>BWI</td>\n",
       "      <td>515</td>\n",
       "    </tr>\n",
       "    <tr>\n",
       "      <th>4</th>\n",
       "      <td>2008</td>\n",
       "      <td>1</td>\n",
       "      <td>3</td>\n",
       "      <td>4</td>\n",
       "      <td>1155</td>\n",
       "      <td>1270</td>\n",
       "      <td>WN</td>\n",
       "      <td>378</td>\n",
       "      <td>N726SW</td>\n",
       "      <td>115</td>\n",
       "      <td>87</td>\n",
       "      <td>11</td>\n",
       "      <td>IND</td>\n",
       "      <td>JAX</td>\n",
       "      <td>688</td>\n",
       "    </tr>\n",
       "  </tbody>\n",
       "</table>\n",
       "</div>"
      ],
      "text/plain": [
       "   Year  Month  DayofMonth  DayOfWeek  CRSDepTime  CRSArrTime UniqueCarrier  \\\n",
       "0  2008      1           3          4        1195        1345            WN   \n",
       "1  2008      1           3          4         455         600            WN   \n",
       "2  2008      1           3          4         380         470            WN   \n",
       "3  2008      1           3          4        1075        1165            WN   \n",
       "4  2008      1           3          4        1155        1270            WN   \n",
       "\n",
       "   FlightNum TailNum  CRSElapsedTime  AirTime  ArrDelay Origin Dest  Distance  \n",
       "0        335  N712SW             150      116       -14    IAD  TPA       810  \n",
       "1       3231  N772SW             145      113         2    IAD  TPA       810  \n",
       "2        448  N428WN              90       76        14    IND  BWI       515  \n",
       "3       3920  N464WN              90       77        34    IND  BWI       515  \n",
       "4        378  N726SW             115       87        11    IND  JAX       688  "
      ]
     },
     "execution_count": 13,
     "metadata": {},
     "output_type": "execute_result"
    }
   ],
   "source": [
    "df.head()"
   ]
  },
  {
   "cell_type": "code",
   "execution_count": 14,
   "id": "66fac4b4",
   "metadata": {},
   "outputs": [
    {
     "data": {
      "text/plain": [
       "UniqueCarrier      20\n",
       "TailNum          5360\n",
       "Origin            303\n",
       "Dest              302\n",
       "dtype: int64"
      ]
     },
     "execution_count": 14,
     "metadata": {},
     "output_type": "execute_result"
    }
   ],
   "source": [
    "categorical_features = [\"UniqueCarrier\", \"TailNum\", \"Origin\", \"Dest\"]\n",
    "df[categorical_features].nunique()"
   ]
  },
  {
   "cell_type": "code",
   "execution_count": 15,
   "id": "dd88e013",
   "metadata": {},
   "outputs": [],
   "source": [
    "from sklearn.preprocessing import LabelEncoder\n",
    "\n",
    "le = LabelEncoder()\n",
    "\n",
    "for feature in categorical_features:\n",
    "    df[f\"{feature}_encoded\"] = le.fit_transform(df[feature])"
   ]
  },
  {
   "cell_type": "markdown",
   "id": "8cbc3d85",
   "metadata": {},
   "source": [
    "## Convert ArrDelay column into boolean indicates wheather flight arrival late or not"
   ]
  },
  {
   "cell_type": "code",
   "execution_count": 16,
   "id": "9f769dab",
   "metadata": {},
   "outputs": [],
   "source": [
    "df[\"IsArrLate\"] = (df[\"ArrDelay\"] > 0)"
   ]
  },
  {
   "cell_type": "markdown",
   "id": "6ace932f",
   "metadata": {},
   "source": [
    "## Save processed data"
   ]
  },
  {
   "cell_type": "code",
   "execution_count": 17,
   "id": "ec5bc832",
   "metadata": {
    "scrolled": false
   },
   "outputs": [],
   "source": [
    "df = df.drop(categorical_features, axis=1)\n",
    "df = df.drop(\"ArrDelay\", axis=1)\n",
    "\n",
    "df.to_csv(\"CleanedDelayedFlights.csv\")"
   ]
  },
  {
   "cell_type": "code",
   "execution_count": 19,
   "id": "24ab7126",
   "metadata": {},
   "outputs": [
    {
     "data": {
      "text/html": [
       "<div>\n",
       "<style scoped>\n",
       "    .dataframe tbody tr th:only-of-type {\n",
       "        vertical-align: middle;\n",
       "    }\n",
       "\n",
       "    .dataframe tbody tr th {\n",
       "        vertical-align: top;\n",
       "    }\n",
       "\n",
       "    .dataframe thead th {\n",
       "        text-align: right;\n",
       "    }\n",
       "</style>\n",
       "<table border=\"1\" class=\"dataframe\">\n",
       "  <thead>\n",
       "    <tr style=\"text-align: right;\">\n",
       "      <th></th>\n",
       "      <th>Year</th>\n",
       "      <th>Month</th>\n",
       "      <th>DayofMonth</th>\n",
       "      <th>DayOfWeek</th>\n",
       "      <th>CRSDepTime</th>\n",
       "      <th>CRSArrTime</th>\n",
       "      <th>FlightNum</th>\n",
       "      <th>CRSElapsedTime</th>\n",
       "      <th>AirTime</th>\n",
       "      <th>Distance</th>\n",
       "      <th>UniqueCarrier_encoded</th>\n",
       "      <th>TailNum_encoded</th>\n",
       "      <th>Origin_encoded</th>\n",
       "      <th>Dest_encoded</th>\n",
       "      <th>IsArrLate</th>\n",
       "    </tr>\n",
       "  </thead>\n",
       "  <tbody>\n",
       "    <tr>\n",
       "      <th>0</th>\n",
       "      <td>2008</td>\n",
       "      <td>1</td>\n",
       "      <td>3</td>\n",
       "      <td>4</td>\n",
       "      <td>1195</td>\n",
       "      <td>1345</td>\n",
       "      <td>335</td>\n",
       "      <td>150</td>\n",
       "      <td>116</td>\n",
       "      <td>810</td>\n",
       "      <td>17</td>\n",
       "      <td>3756</td>\n",
       "      <td>135</td>\n",
       "      <td>284</td>\n",
       "      <td>False</td>\n",
       "    </tr>\n",
       "    <tr>\n",
       "      <th>1</th>\n",
       "      <td>2008</td>\n",
       "      <td>1</td>\n",
       "      <td>3</td>\n",
       "      <td>4</td>\n",
       "      <td>455</td>\n",
       "      <td>600</td>\n",
       "      <td>3231</td>\n",
       "      <td>145</td>\n",
       "      <td>113</td>\n",
       "      <td>810</td>\n",
       "      <td>17</td>\n",
       "      <td>4116</td>\n",
       "      <td>135</td>\n",
       "      <td>284</td>\n",
       "      <td>True</td>\n",
       "    </tr>\n",
       "    <tr>\n",
       "      <th>2</th>\n",
       "      <td>2008</td>\n",
       "      <td>1</td>\n",
       "      <td>3</td>\n",
       "      <td>4</td>\n",
       "      <td>380</td>\n",
       "      <td>470</td>\n",
       "      <td>448</td>\n",
       "      <td>90</td>\n",
       "      <td>76</td>\n",
       "      <td>515</td>\n",
       "      <td>17</td>\n",
       "      <td>1948</td>\n",
       "      <td>140</td>\n",
       "      <td>48</td>\n",
       "      <td>True</td>\n",
       "    </tr>\n",
       "    <tr>\n",
       "      <th>3</th>\n",
       "      <td>2008</td>\n",
       "      <td>1</td>\n",
       "      <td>3</td>\n",
       "      <td>4</td>\n",
       "      <td>1075</td>\n",
       "      <td>1165</td>\n",
       "      <td>3920</td>\n",
       "      <td>90</td>\n",
       "      <td>77</td>\n",
       "      <td>515</td>\n",
       "      <td>17</td>\n",
       "      <td>2129</td>\n",
       "      <td>140</td>\n",
       "      <td>48</td>\n",
       "      <td>True</td>\n",
       "    </tr>\n",
       "    <tr>\n",
       "      <th>4</th>\n",
       "      <td>2008</td>\n",
       "      <td>1</td>\n",
       "      <td>3</td>\n",
       "      <td>4</td>\n",
       "      <td>1155</td>\n",
       "      <td>1270</td>\n",
       "      <td>378</td>\n",
       "      <td>115</td>\n",
       "      <td>87</td>\n",
       "      <td>688</td>\n",
       "      <td>17</td>\n",
       "      <td>3839</td>\n",
       "      <td>140</td>\n",
       "      <td>149</td>\n",
       "      <td>True</td>\n",
       "    </tr>\n",
       "  </tbody>\n",
       "</table>\n",
       "</div>"
      ],
      "text/plain": [
       "   Year  Month  DayofMonth  DayOfWeek  CRSDepTime  CRSArrTime  FlightNum  \\\n",
       "0  2008      1           3          4        1195        1345        335   \n",
       "1  2008      1           3          4         455         600       3231   \n",
       "2  2008      1           3          4         380         470        448   \n",
       "3  2008      1           3          4        1075        1165       3920   \n",
       "4  2008      1           3          4        1155        1270        378   \n",
       "\n",
       "   CRSElapsedTime  AirTime  Distance  UniqueCarrier_encoded  TailNum_encoded  \\\n",
       "0             150      116       810                     17             3756   \n",
       "1             145      113       810                     17             4116   \n",
       "2              90       76       515                     17             1948   \n",
       "3              90       77       515                     17             2129   \n",
       "4             115       87       688                     17             3839   \n",
       "\n",
       "   Origin_encoded  Dest_encoded  IsArrLate  \n",
       "0             135           284      False  \n",
       "1             135           284       True  \n",
       "2             140            48       True  \n",
       "3             140            48       True  \n",
       "4             140           149       True  "
      ]
     },
     "execution_count": 19,
     "metadata": {},
     "output_type": "execute_result"
    }
   ],
   "source": [
    "df.head()"
   ]
  },
  {
   "cell_type": "code",
   "execution_count": null,
   "id": "a4321798",
   "metadata": {},
   "outputs": [],
   "source": []
  }
 ],
 "metadata": {
  "kernelspec": {
   "display_name": "ML-experiments",
   "language": "python",
   "name": "ml-experiments"
  },
  "language_info": {
   "codemirror_mode": {
    "name": "ipython",
    "version": 3
   },
   "file_extension": ".py",
   "mimetype": "text/x-python",
   "name": "python",
   "nbconvert_exporter": "python",
   "pygments_lexer": "ipython3",
   "version": "3.8.16"
  }
 },
 "nbformat": 4,
 "nbformat_minor": 5
}
